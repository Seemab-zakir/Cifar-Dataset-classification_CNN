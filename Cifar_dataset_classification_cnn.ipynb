{
  "nbformat": 4,
  "nbformat_minor": 0,
  "metadata": {
    "colab": {
      "provenance": [],
      "toc_visible": true
    },
    "kernelspec": {
      "name": "python3",
      "display_name": "Python 3"
    },
    "language_info": {
      "name": "python"
    },
    "accelerator": "GPU",
    "gpuClass": "standard"
  },
  "cells": [
    {
      "cell_type": "code",
      "source": [
        "from tensorflow import keras \n",
        "import matplotlib.pyplot as plt\n",
        "import tensorflow as tf\n",
        "import numpy as np\n",
        "(x_train, y_train), (x_test, y_test) = keras.datasets.cifar10.load_data()\n"
      ],
      "metadata": {
        "id": "Pu0KsZtgjgvd",
        "colab": {
          "base_uri": "https://localhost:8080/"
        },
        "outputId": "7aa9946d-f7d4-41ec-a14b-32d755846704"
      },
      "execution_count": 10,
      "outputs": [
        {
          "output_type": "stream",
          "name": "stdout",
          "text": [
            "Downloading data from https://www.cs.toronto.edu/~kriz/cifar-10-python.tar.gz\n",
            "170498071/170498071 [==============================] - 13s 0us/step\n"
          ]
        }
      ]
    },
    {
      "cell_type": "code",
      "source": [
        "x_train.shape"
      ],
      "metadata": {
        "colab": {
          "base_uri": "https://localhost:8080/"
        },
        "id": "bgduJg_qjw88",
        "outputId": "d6b445a7-027b-481c-b9d9-9e13b0ee55a1"
      },
      "execution_count": 11,
      "outputs": [
        {
          "output_type": "execute_result",
          "data": {
            "text/plain": [
              "(50000, 32, 32, 3)"
            ]
          },
          "metadata": {},
          "execution_count": 11
        }
      ]
    },
    {
      "cell_type": "code",
      "source": [
        "x_test.shape"
      ],
      "metadata": {
        "colab": {
          "base_uri": "https://localhost:8080/"
        },
        "id": "6kXa3_hAj0PC",
        "outputId": "65c7120b-0d85-4009-8bfc-640793ce68ed"
      },
      "execution_count": 12,
      "outputs": [
        {
          "output_type": "execute_result",
          "data": {
            "text/plain": [
              "(10000, 32, 32, 3)"
            ]
          },
          "metadata": {},
          "execution_count": 12
        }
      ]
    },
    {
      "cell_type": "code",
      "source": [
        "# Scale images to the [0, 1] range\n",
        "x_train = x_train.astype(\"float32\") / 255\n",
        "x_test = x_test.astype(\"float32\") / 255\n",
        "print(x_train.shape[0], \"train samples\")\n",
        "print(x_test.shape[0], \"test samples\")"
      ],
      "metadata": {
        "colab": {
          "base_uri": "https://localhost:8080/"
        },
        "id": "3koSpZ5oj54Y",
        "outputId": "2d76bb84-cc48-4ce8-ca96-ca788d42b3ff"
      },
      "execution_count": 13,
      "outputs": [
        {
          "output_type": "stream",
          "name": "stdout",
          "text": [
            "50000 train samples\n",
            "10000 test samples\n"
          ]
        }
      ]
    },
    {
      "cell_type": "code",
      "source": [
        "#print(x_test[0,:,:,0].shape)\n",
        "#plt.imshow(x_test[2000,100:,:])#for 1 channel in matplotlib we put 0 in place of channel\n",
        "#plt.show()"
      ],
      "metadata": {
        "id": "GV4IUgwamg6P"
      },
      "execution_count": 14,
      "outputs": []
    },
    {
      "cell_type": "code",
      "source": [
        "num_classes=10\n",
        "# convert class vectors to binary class matrices\n",
        "y_train = keras.utils.to_categorical(y_train, num_classes)\n",
        "y_test = keras.utils.to_categorical(y_test, num_classes)"
      ],
      "metadata": {
        "id": "y-zqH0EPoL73"
      },
      "execution_count": 15,
      "outputs": []
    },
    {
      "cell_type": "code",
      "source": [
        "from keras.layers import Dropout\n",
        "from keras.layers import LeakyReLU\n",
        "from keras.layers import AveragePooling2D"
      ],
      "metadata": {
        "id": "JeLE5yLgoGR_"
      },
      "execution_count": 16,
      "outputs": []
    },
    {
      "cell_type": "code",
      "source": [
        "model=tf.keras.models.Sequential([\n",
        "    \n",
        "    tf.keras.Input(shape=(32,32,3)),\n",
        "    \n",
        "    tf.keras.layers.Conv2D(\n",
        "    filters=32,\n",
        "    kernel_size=5,\n",
        "    strides=(1, 1),\n",
        "    padding=\"valid\",\n",
        "    # bias_initializer='ones',\n",
        "    # kernel_initializer='ones'\n",
        "    ),#\"same\" means zero padding, 'valid' means 1 padding,\n",
        "\n",
        "    tf.keras.layers.BatchNormalization(),#This layer should be inserted between the convolutional layer and the activation function\n",
        "#mean of 0 and a standard deviation of 1 \n",
        "   \n",
        "    #tf.keras.layers.ReLU(),\n",
        "    tf.keras.layers.MaxPooling2D(pool_size=(2, 2), strides=2, padding=\"valid\"),\n",
        "    tf.keras.layers.LeakyReLU(alpha=0.1),\n",
        "\n",
        "    #tf.keras.layers.AveragePooling2D(pool_size=(2, 2), strides=2, padding=\"valid\"),\n",
        "\n",
        "    tf.keras.layers.Conv2D(\n",
        "    filters=64,\n",
        "    kernel_size=5,\n",
        "    strides=(1, 1),\n",
        "    padding=\"valid\"),\n",
        "    \n",
        "    #tf.keras.layers.ReLU(),\n",
        "    tf.keras.layers.MaxPooling2D(pool_size=(2, 2), strides=2, padding=\"valid\"),\n",
        "    tf.keras.layers.LeakyReLU(alpha=0.1),\n",
        "\n",
        "    #tf.keras.layers.AveragePooling2D(pool_size=(2, 2), strides=2, padding=\"valid\"),\n",
        "    tf.keras.layers.Conv2D(\n",
        "    filters=64,\n",
        "    kernel_size=3,#height and weight is less then 5 so cant use size 5\n",
        "    strides=(1, 1),\n",
        "    padding=\"valid\"),\n",
        "    #tf.keras.layers.ReLU(),\n",
        "    tf.keras.layers.MaxPooling2D(pool_size=(2, 2), strides=2, padding=\"valid\"),\n",
        "\n",
        "    tf.keras.layers.LeakyReLU(alpha=0.1),\n",
        "    #tf.keras.layers.AveragePooling2D(pool_size=(2, 2), strides=2, padding=\"valid\"),\n",
        "    \n",
        "    tf.keras.layers.Flatten(),\n",
        "    \n",
        "    tf.keras.layers.Dense(128),\n",
        "    \n",
        "    #tf.keras.layers.ReLU(),\n",
        "\n",
        "   tf.keras.layers.LeakyReLU(alpha=0.1),# the slope of the activation function will be 0.1 for x < 0.\n",
        "\n",
        "    tf.keras.layers.Dense(10,activation='softmax'),\n",
        "   # tf.keras.layers.Dropout(0.2)\n",
        "    \n",
        "    \n",
        "     #sigmoid for binary\n",
        "    #softmax multiclass\n",
        "\n",
        "])"
      ],
      "metadata": {
        "id": "Vav5m8Hgog71"
      },
      "execution_count": 17,
      "outputs": []
    },
    {
      "cell_type": "code",
      "source": [
        "model.build()"
      ],
      "metadata": {
        "id": "I4DIMo3Bp2qi"
      },
      "execution_count": 18,
      "outputs": []
    },
    {
      "cell_type": "code",
      "source": [
        "model.compile(optimizer=\"Adam\", loss=\"categorical_crossentropy\", metrics=[\"accuracy\"])"
      ],
      "metadata": {
        "id": "65V-O5nO7jtw"
      },
      "execution_count": 19,
      "outputs": []
    },
    {
      "cell_type": "code",
      "source": [
        "model.summary()"
      ],
      "metadata": {
        "colab": {
          "base_uri": "https://localhost:8080/"
        },
        "id": "osH1Sindo8Pu",
        "outputId": "4e973d47-57da-4471-f682-8a356eafb291"
      },
      "execution_count": 20,
      "outputs": [
        {
          "output_type": "stream",
          "name": "stdout",
          "text": [
            "Model: \"sequential\"\n",
            "_________________________________________________________________\n",
            " Layer (type)                Output Shape              Param #   \n",
            "=================================================================\n",
            " conv2d (Conv2D)             (None, 28, 28, 32)        2432      \n",
            "                                                                 \n",
            " batch_normalization (BatchN  (None, 28, 28, 32)       128       \n",
            " ormalization)                                                   \n",
            "                                                                 \n",
            " max_pooling2d (MaxPooling2D  (None, 14, 14, 32)       0         \n",
            " )                                                               \n",
            "                                                                 \n",
            " leaky_re_lu (LeakyReLU)     (None, 14, 14, 32)        0         \n",
            "                                                                 \n",
            " conv2d_1 (Conv2D)           (None, 10, 10, 64)        51264     \n",
            "                                                                 \n",
            " max_pooling2d_1 (MaxPooling  (None, 5, 5, 64)         0         \n",
            " 2D)                                                             \n",
            "                                                                 \n",
            " leaky_re_lu_1 (LeakyReLU)   (None, 5, 5, 64)          0         \n",
            "                                                                 \n",
            " conv2d_2 (Conv2D)           (None, 3, 3, 64)          36928     \n",
            "                                                                 \n",
            " max_pooling2d_2 (MaxPooling  (None, 1, 1, 64)         0         \n",
            " 2D)                                                             \n",
            "                                                                 \n",
            " leaky_re_lu_2 (LeakyReLU)   (None, 1, 1, 64)          0         \n",
            "                                                                 \n",
            " flatten (Flatten)           (None, 64)                0         \n",
            "                                                                 \n",
            " dense (Dense)               (None, 128)               8320      \n",
            "                                                                 \n",
            " leaky_re_lu_3 (LeakyReLU)   (None, 128)               0         \n",
            "                                                                 \n",
            " dense_1 (Dense)             (None, 10)                1290      \n",
            "                                                                 \n",
            "=================================================================\n",
            "Total params: 100,362\n",
            "Trainable params: 100,298\n",
            "Non-trainable params: 64\n",
            "_________________________________________________________________\n"
          ]
        }
      ]
    },
    {
      "cell_type": "code",
      "source": [
        "model.layers[0].get_weights()[0]"
      ],
      "metadata": {
        "id": "VLi9x07YqfGK",
        "colab": {
          "base_uri": "https://localhost:8080/"
        },
        "outputId": "697fe236-d356-44ac-8bf7-bdde66bbd76f"
      },
      "execution_count": 21,
      "outputs": [
        {
          "output_type": "execute_result",
          "data": {
            "text/plain": [
              "array([[[[-0.03021962,  0.06935292,  0.04544494, ..., -0.00589339,\n",
              "          -0.01489634, -0.03908185],\n",
              "         [-0.08186321,  0.06940733, -0.07038127, ...,  0.04490633,\n",
              "          -0.020958  , -0.05960483],\n",
              "         [-0.06544659, -0.05096524,  0.03900525, ..., -0.05102161,\n",
              "           0.0231371 ,  0.05512559]],\n",
              "\n",
              "        [[-0.02493943, -0.08046474, -0.02710227, ...,  0.02253362,\n",
              "          -0.00032838,  0.06271085],\n",
              "         [ 0.07316962,  0.00020538, -0.04514599, ..., -0.06607747,\n",
              "           0.07716404,  0.03423127],\n",
              "         [-0.00562377, -0.04461412, -0.01275449, ...,  0.01061106,\n",
              "           0.06541075,  0.00158615]],\n",
              "\n",
              "        [[ 0.03288523, -0.05483547, -0.03559108, ..., -0.02490216,\n",
              "           0.06785184, -0.06383839],\n",
              "         [ 0.06204337, -0.03470293,  0.02603957, ...,  0.00072267,\n",
              "          -0.00487078,  0.01337408],\n",
              "         [-0.07081109, -0.03152684,  0.06791662, ...,  0.01028717,\n",
              "           0.05857173,  0.03403024]],\n",
              "\n",
              "        [[-0.06303376, -0.00650184,  0.0156552 , ...,  0.06108509,\n",
              "          -0.04768862, -0.01570677],\n",
              "         [-0.01458448, -0.0065758 ,  0.07453224, ..., -0.06448305,\n",
              "          -0.00375813,  0.05349238],\n",
              "         [-0.04312554,  0.00834396,  0.07493603, ...,  0.0357064 ,\n",
              "          -0.07239155,  0.07122087]],\n",
              "\n",
              "        [[-0.05097857, -0.05243773, -0.02357026, ..., -0.05149861,\n",
              "          -0.03181627, -0.05689349],\n",
              "         [ 0.01317576, -0.03328903, -0.00336643, ...,  0.03903212,\n",
              "          -0.0266455 ,  0.06283769],\n",
              "         [ 0.03169843,  0.06944908,  0.02803581, ...,  0.00709677,\n",
              "          -0.05955531, -0.06208981]]],\n",
              "\n",
              "\n",
              "       [[[ 0.06324939, -0.017113  , -0.01730115, ...,  0.03454662,\n",
              "           0.04317495,  0.02023304],\n",
              "         [-0.02458856, -0.04534139, -0.05682611, ...,  0.06556794,\n",
              "           0.05942692,  0.06736295],\n",
              "         [-0.02253445,  0.05717473, -0.08169016, ..., -0.00618823,\n",
              "          -0.05994028,  0.04036646]],\n",
              "\n",
              "        [[ 0.0066587 ,  0.07838865, -0.03804197, ...,  0.05357535,\n",
              "           0.06318578, -0.02176167],\n",
              "         [ 0.07521132, -0.04605241, -0.03968894, ..., -0.01501133,\n",
              "           0.00744481, -0.04170608],\n",
              "         [-0.02954344, -0.00722289,  0.02757326, ...,  0.06448673,\n",
              "           0.00629429, -0.01174221]],\n",
              "\n",
              "        [[ 0.08166598, -0.0248513 ,  0.05881016, ...,  0.05507316,\n",
              "           0.04990458, -0.07294195],\n",
              "         [ 0.04380417, -0.00327516, -0.07352439, ..., -0.07219547,\n",
              "           0.0173525 , -0.0670967 ],\n",
              "         [ 0.03532024,  0.01636573, -0.02896845, ..., -0.06783449,\n",
              "          -0.01867007,  0.01896084]],\n",
              "\n",
              "        [[ 0.00098585,  0.04386479,  0.00805344, ..., -0.058281  ,\n",
              "           0.03059136,  0.03458077],\n",
              "         [ 0.08001763, -0.00482789, -0.01956416, ...,  0.06062622,\n",
              "           0.04846257,  0.02940635],\n",
              "         [-0.04056595, -0.03792312,  0.03036842, ..., -0.04688092,\n",
              "          -0.03745481,  0.00438032]],\n",
              "\n",
              "        [[ 0.0162271 , -0.05058177, -0.0731127 , ..., -0.00138183,\n",
              "           0.05287902, -0.00234684],\n",
              "         [ 0.04562277,  0.04118899,  0.02323544, ...,  0.03425284,\n",
              "           0.01967237,  0.03078389],\n",
              "         [ 0.06358944, -0.03448895, -0.01515503, ...,  0.05266653,\n",
              "          -0.07762071,  0.02101137]]],\n",
              "\n",
              "\n",
              "       [[[ 0.06642058, -0.02814423, -0.02049763, ..., -0.00669651,\n",
              "          -0.00157375,  0.00771542],\n",
              "         [-0.00079159, -0.03534751,  0.04977812, ...,  0.03937627,\n",
              "          -0.04944576,  0.0366115 ],\n",
              "         [-0.04688264,  0.00795469, -0.02976621, ..., -0.04350835,\n",
              "          -0.00034795, -0.01564203]],\n",
              "\n",
              "        [[ 0.05585597,  0.02412478,  0.07895796, ..., -0.04887215,\n",
              "          -0.05380647,  0.07820921],\n",
              "         [-0.04042768, -0.08116773,  0.0804439 , ...,  0.06553932,\n",
              "          -0.0655186 ,  0.02045913],\n",
              "         [ 0.04238816, -0.02098074,  0.03322937, ...,  0.0161579 ,\n",
              "          -0.05959667, -0.03736645]],\n",
              "\n",
              "        [[ 0.07523264,  0.07828575,  0.07978816, ..., -0.06193363,\n",
              "          -0.04808629, -0.07790927],\n",
              "         [-0.03449543, -0.00998264,  0.03231844, ..., -0.05043866,\n",
              "          -0.05593458, -0.03157723],\n",
              "         [ 0.02487898, -0.02862135, -0.0364392 , ...,  0.07577832,\n",
              "          -0.02769679,  0.03041585]],\n",
              "\n",
              "        [[ 0.03672916, -0.01494335,  0.02390577, ...,  0.05738087,\n",
              "           0.05068798, -0.07826565],\n",
              "         [-0.06479248,  0.06022757,  0.01469814, ...,  0.0823888 ,\n",
              "           0.02106192, -0.00527014],\n",
              "         [-0.00938299,  0.0418995 , -0.06066881, ..., -0.06441575,\n",
              "          -0.03664401, -0.05955859]],\n",
              "\n",
              "        [[ 0.04221807, -0.00170421, -0.01172353, ..., -0.05710691,\n",
              "          -0.00728398, -0.08203341],\n",
              "         [-0.06538205, -0.07117379,  0.01606534, ..., -0.00551823,\n",
              "          -0.0185103 , -0.05030725],\n",
              "         [ 0.04862565, -0.02708105,  0.05538712, ..., -0.04608536,\n",
              "           0.06888269, -0.03733733]]],\n",
              "\n",
              "\n",
              "       [[[-0.04752819,  0.06603852,  0.05732632, ..., -0.02762485,\n",
              "          -0.0318419 , -0.06738009],\n",
              "         [ 0.07769041,  0.04753879, -0.00252396, ..., -0.0117403 ,\n",
              "           0.07338603,  0.04745974],\n",
              "         [-0.03686136,  0.00880211, -0.03439081, ..., -0.0111115 ,\n",
              "           0.00451898,  0.03972995]],\n",
              "\n",
              "        [[-0.07458452,  0.02855128, -0.02662151, ..., -0.04634178,\n",
              "           0.01680069,  0.00510468],\n",
              "         [-0.06669611, -0.04550496,  0.05169964, ...,  0.07377376,\n",
              "           0.02560447, -0.00522402],\n",
              "         [ 0.0588019 , -0.07098639,  0.00545235, ...,  0.01383661,\n",
              "          -0.02756805, -0.04497879]],\n",
              "\n",
              "        [[-0.05810055, -0.02577691, -0.02889566, ...,  0.02472242,\n",
              "          -0.05689712,  0.08048728],\n",
              "         [-0.0436094 ,  0.034567  ,  0.00436627, ..., -0.07640514,\n",
              "           0.0254747 , -0.02935597],\n",
              "         [-0.03022728, -0.06940556, -0.02407422, ...,  0.06890854,\n",
              "           0.02648041,  0.01605456]],\n",
              "\n",
              "        [[ 0.02615979,  0.04756472,  0.0670225 , ...,  0.05763584,\n",
              "          -0.05545137, -0.04922383],\n",
              "         [-0.00530165,  0.03640283,  0.03063086, ...,  0.07704234,\n",
              "           0.08178051, -0.00647136],\n",
              "         [ 0.01737114,  0.06133032,  0.01265435, ...,  0.04666452,\n",
              "           0.00298025, -0.03182338]],\n",
              "\n",
              "        [[ 0.02047838, -0.05860066,  0.01012009, ..., -0.01560946,\n",
              "           0.03997178, -0.05778489],\n",
              "         [ 0.0591307 , -0.02557415,  0.02923016, ..., -0.01025776,\n",
              "           0.06741069,  0.01857113],\n",
              "         [-0.05893367,  0.0789181 , -0.03266105, ..., -0.0109937 ,\n",
              "           0.06178865, -0.05664303]]],\n",
              "\n",
              "\n",
              "       [[[ 0.02311414, -0.05097379,  0.05248219, ..., -0.02105148,\n",
              "          -0.07373942, -0.04192248],\n",
              "         [-0.0576634 , -0.02735928,  0.02646256, ..., -0.00303743,\n",
              "          -0.00028133, -0.02376088],\n",
              "         [-0.07357287, -0.04003198, -0.08179528, ..., -0.01620277,\n",
              "           0.05976436,  0.04894158]],\n",
              "\n",
              "        [[-0.0176155 , -0.02143636, -0.00026882, ...,  0.07760851,\n",
              "           0.04875714, -0.05689892],\n",
              "         [ 0.0704312 ,  0.04299404, -0.07050674, ..., -0.04166128,\n",
              "           0.01457585,  0.01924553],\n",
              "         [ 0.07629795, -0.04145309, -0.08012656, ...,  0.02121542,\n",
              "           0.01731702,  0.01905829]],\n",
              "\n",
              "        [[ 0.00085694, -0.01059045,  0.06163636, ..., -0.0206706 ,\n",
              "          -0.07225219, -0.01392532],\n",
              "         [ 0.05248187,  0.07430802,  0.08025372, ...,  0.04169784,\n",
              "           0.04421736, -0.04521898],\n",
              "         [-0.07587609,  0.00015406, -0.00262546, ...,  0.02907696,\n",
              "          -0.00095668, -0.08076838]],\n",
              "\n",
              "        [[ 0.02366412, -0.05370501,  0.01256867, ...,  0.06641281,\n",
              "          -0.00391455,  0.06761146],\n",
              "         [-0.0332997 , -0.04039782,  0.07941647, ..., -0.02871102,\n",
              "           0.03368104,  0.05202232],\n",
              "         [ 0.02753332, -0.01441424,  0.04411086, ...,  0.02664214,\n",
              "           0.02442661,  0.02826174]],\n",
              "\n",
              "        [[-0.01099127, -0.01295674,  0.00698461, ..., -0.0287988 ,\n",
              "           0.01099861, -0.02904344],\n",
              "         [ 0.026939  ,  0.02641644, -0.07528992, ..., -0.05827909,\n",
              "          -0.0014915 , -0.0194829 ],\n",
              "         [-0.0068235 , -0.06510029,  0.01073115, ...,  0.06707415,\n",
              "           0.00048214,  0.05295242]]]], dtype=float32)"
            ]
          },
          "metadata": {},
          "execution_count": 21
        }
      ]
    },
    {
      "cell_type": "code",
      "source": [
        "model.layers[0].get_weights()[0].max(),model.layers[0].get_weights()[0].min()"
      ],
      "metadata": {
        "colab": {
          "base_uri": "https://localhost:8080/"
        },
        "id": "A2iNWFnjqqEy",
        "outputId": "cfd9561e-4559-44f2-df3b-e13be953e48f"
      },
      "execution_count": 22,
      "outputs": [
        {
          "output_type": "execute_result",
          "data": {
            "text/plain": [
              "(0.08280195, -0.08263348)"
            ]
          },
          "metadata": {},
          "execution_count": 22
        }
      ]
    },
    {
      "cell_type": "code",
      "source": [
        "model.fit(x_train,y_train,epochs=3,batch_size=24,validation_data=(x_test,y_test))"
      ],
      "metadata": {
        "id": "MaeJn-lPq1SF",
        "colab": {
          "base_uri": "https://localhost:8080/"
        },
        "outputId": "5488ec79-24a6-4211-a7de-b71bd2e7433f"
      },
      "execution_count": 23,
      "outputs": [
        {
          "output_type": "stream",
          "name": "stdout",
          "text": [
            "Epoch 1/3\n",
            "2084/2084 [==============================] - 17s 5ms/step - loss: 1.5003 - accuracy: 0.4648 - val_loss: 1.4944 - val_accuracy: 0.4949\n",
            "Epoch 2/3\n",
            "2084/2084 [==============================] - 9s 4ms/step - loss: 1.1467 - accuracy: 0.5990 - val_loss: 1.2285 - val_accuracy: 0.5803\n",
            "Epoch 3/3\n",
            "2084/2084 [==============================] - 9s 4ms/step - loss: 0.9959 - accuracy: 0.6545 - val_loss: 1.1258 - val_accuracy: 0.6176\n"
          ]
        },
        {
          "output_type": "execute_result",
          "data": {
            "text/plain": [
              "<keras.callbacks.History at 0x7fb460132580>"
            ]
          },
          "metadata": {},
          "execution_count": 23
        }
      ]
    },
    {
      "cell_type": "code",
      "source": [
        "model.layers[0].get_weights()[0].max(),model.layers[0].get_weights()[0].min()"
      ],
      "metadata": {
        "colab": {
          "base_uri": "https://localhost:8080/"
        },
        "id": "ko9UWEeUr3L_",
        "outputId": "81eeaf24-cd94-49db-8444-b8cfb810d936"
      },
      "execution_count": 24,
      "outputs": [
        {
          "output_type": "execute_result",
          "data": {
            "text/plain": [
              "(0.33261347, -0.2630642)"
            ]
          },
          "metadata": {},
          "execution_count": 24
        }
      ]
    },
    {
      "cell_type": "code",
      "source": [
        "x_test.shape,y_test.shape"
      ],
      "metadata": {
        "colab": {
          "base_uri": "https://localhost:8080/"
        },
        "id": "IAW8U2PIA9Mr",
        "outputId": "9ec6342f-23f6-48b3-92ec-ddf90b23cec0"
      },
      "execution_count": 25,
      "outputs": [
        {
          "output_type": "execute_result",
          "data": {
            "text/plain": [
              "((10000, 32, 32, 3), (10000, 10))"
            ]
          },
          "metadata": {},
          "execution_count": 25
        }
      ]
    },
    {
      "cell_type": "code",
      "source": [
        "model.evaluate(x_test,y_test)"
      ],
      "metadata": {
        "colab": {
          "base_uri": "https://localhost:8080/"
        },
        "id": "NcHj93VusLL1",
        "outputId": "37ccd943-339d-445e-f0a0-1345237a030c"
      },
      "execution_count": 26,
      "outputs": [
        {
          "output_type": "stream",
          "name": "stdout",
          "text": [
            "313/313 [==============================] - 1s 3ms/step - loss: 1.1258 - accuracy: 0.6176\n"
          ]
        },
        {
          "output_type": "execute_result",
          "data": {
            "text/plain": [
              "[1.1257920265197754, 0.6176000237464905]"
            ]
          },
          "metadata": {},
          "execution_count": 26
        }
      ]
    },
    {
      "cell_type": "code",
      "source": [
        "pred=model.predict(x_test)"
      ],
      "metadata": {
        "colab": {
          "base_uri": "https://localhost:8080/"
        },
        "id": "Q1ydbod-shRq",
        "outputId": "34c35503-f4b6-4393-8a54-46dd03d372f0"
      },
      "execution_count": 27,
      "outputs": [
        {
          "output_type": "stream",
          "name": "stdout",
          "text": [
            "313/313 [==============================] - 1s 2ms/step\n"
          ]
        }
      ]
    },
    {
      "cell_type": "code",
      "source": [
        "y_score=model.predict(x_test)\n",
        "print(y_score.shape)\n",
        "y_pred=np.argmax(y_score,axis=1)#return col which has max value\n",
        "y_test=np.argmax(y_test,axis=1)#axis 0=rows and axis 1=col\n"
      ],
      "metadata": {
        "colab": {
          "base_uri": "https://localhost:8080/"
        },
        "id": "85djagnW9InW",
        "outputId": "f862eb0d-f633-4943-8c68-47c528c5aceb"
      },
      "execution_count": 28,
      "outputs": [
        {
          "output_type": "stream",
          "name": "stdout",
          "text": [
            "313/313 [==============================] - 1s 2ms/step\n",
            "(10000, 10)\n"
          ]
        }
      ]
    },
    {
      "cell_type": "code",
      "source": [
        "y_test.shape"
      ],
      "metadata": {
        "colab": {
          "base_uri": "https://localhost:8080/"
        },
        "id": "K0mSQTNa9NNO",
        "outputId": "8099ff7e-fd3b-446c-977c-c35190af359f"
      },
      "execution_count": 29,
      "outputs": [
        {
          "output_type": "execute_result",
          "data": {
            "text/plain": [
              "(10000,)"
            ]
          },
          "metadata": {},
          "execution_count": 29
        }
      ]
    },
    {
      "cell_type": "code",
      "source": [
        "from sklearn.metrics import confusion_matrix,classification_report,roc_curve,auc\n",
        "print(classification_report(y_test,y_pred))"
      ],
      "metadata": {
        "colab": {
          "base_uri": "https://localhost:8080/"
        },
        "id": "SMEDNizn9Yfn",
        "outputId": "7d8c890c-37c3-4385-f8e8-541f96e1ff93"
      },
      "execution_count": 30,
      "outputs": [
        {
          "output_type": "stream",
          "name": "stdout",
          "text": [
            "              precision    recall  f1-score   support\n",
            "\n",
            "           0       0.70      0.68      0.69      1000\n",
            "           1       0.67      0.85      0.75      1000\n",
            "           2       0.65      0.40      0.49      1000\n",
            "           3       0.45      0.43      0.44      1000\n",
            "           4       0.57      0.54      0.56      1000\n",
            "           5       0.69      0.35      0.46      1000\n",
            "           6       0.45      0.92      0.60      1000\n",
            "           7       0.77      0.66      0.71      1000\n",
            "           8       0.68      0.77      0.72      1000\n",
            "           9       0.83      0.57      0.68      1000\n",
            "\n",
            "    accuracy                           0.62     10000\n",
            "   macro avg       0.65      0.62      0.61     10000\n",
            "weighted avg       0.65      0.62      0.61     10000\n",
            "\n"
          ]
        }
      ]
    },
    {
      "cell_type": "code",
      "source": [
        "from sklearn.metrics import confusion_matrix, ConfusionMatrixDisplay\n",
        "cm = confusion_matrix(y_test, y_pred)\n",
        "disp = ConfusionMatrixDisplay(confusion_matrix=cm\n",
        "                               )\n",
        "disp.plot(cmap='Blues')\n",
        "plt.show()"
      ],
      "metadata": {
        "colab": {
          "base_uri": "https://localhost:8080/",
          "height": 279
        },
        "id": "RgICc2cZEhfO",
        "outputId": "957194d4-7cc4-4597-dee4-9f3bae12b99c"
      },
      "execution_count": 31,
      "outputs": [
        {
          "output_type": "display_data",
          "data": {
            "text/plain": [
              "<Figure size 432x288 with 2 Axes>"
            ],
            "image/png": "[encoded data removed]"
          },
          "metadata": {
            "needs_background": "light"
          }
        }
      ]
    }
  ]
}